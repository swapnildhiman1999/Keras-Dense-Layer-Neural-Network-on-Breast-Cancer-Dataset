{
 "cells": [
  {
   "cell_type": "code",
   "execution_count": 8,
   "id": "64710b95",
   "metadata": {},
   "outputs": [],
   "source": [
    "from tensorflow.keras.models import Sequential \n",
    "from tensorflow.keras.layers import Dense"
   ]
  },
  {
   "cell_type": "code",
   "execution_count": 14,
   "id": "683a33c1",
   "metadata": {},
   "outputs": [
    {
     "name": "stdout",
     "output_type": "stream",
     "text": [
      "Collecting seaborn\n",
      "  Downloading https://files.pythonhosted.org/packages/68/ad/6c2406ae175f59ec616714e408979b674fe27b9587f79d59a528ddfbcd5b/seaborn-0.11.1-py3-none-any.whl (285kB)\n",
      "Requirement already satisfied: scipy>=1.0 in c:\\users\\swapnil dhiman\\.conda\\envs\\gputest\\lib\\site-packages (from seaborn) (1.4.1)\n",
      "Requirement already satisfied: matplotlib>=2.2 in c:\\users\\swapnil dhiman\\.conda\\envs\\gputest\\lib\\site-packages (from seaborn) (3.1.2)\n",
      "Requirement already satisfied: numpy>=1.15 in c:\\users\\swapnil dhiman\\.conda\\envs\\gputest\\lib\\site-packages (from seaborn) (1.16.2)\n",
      "Collecting pandas>=0.23\n",
      "  Downloading https://files.pythonhosted.org/packages/81/87/0c8592b31a6e19106699740f4a5ff33d60d0f365363168cf319d0fbe4950/pandas-1.3.0-cp37-cp37m-win_amd64.whl (10.0MB)\n",
      "Requirement already satisfied: kiwisolver>=1.0.1 in c:\\users\\swapnil dhiman\\.conda\\envs\\gputest\\lib\\site-packages (from matplotlib>=2.2->seaborn) (1.1.0)\n",
      "Requirement already satisfied: cycler>=0.10 in c:\\users\\swapnil dhiman\\.conda\\envs\\gputest\\lib\\site-packages (from matplotlib>=2.2->seaborn) (0.10.0)\n",
      "Requirement already satisfied: pyparsing!=2.0.4,!=2.1.2,!=2.1.6,>=2.0.1 in c:\\users\\swapnil dhiman\\.conda\\envs\\gputest\\lib\\site-packages (from matplotlib>=2.2->seaborn) (2.4.6)\n",
      "Requirement already satisfied: python-dateutil>=2.1 in c:\\users\\swapnil dhiman\\.conda\\envs\\gputest\\lib\\site-packages (from matplotlib>=2.2->seaborn) (2.8.1)\n",
      "Collecting pytz>=2017.3\n",
      "  Downloading https://files.pythonhosted.org/packages/70/94/784178ca5dd892a98f113cdd923372024dc04b8d40abe77ca76b5fb90ca6/pytz-2021.1-py2.py3-none-any.whl (510kB)\n",
      "Requirement already satisfied: setuptools in c:\\users\\swapnil dhiman\\.conda\\envs\\gputest\\lib\\site-packages (from kiwisolver>=1.0.1->matplotlib>=2.2->seaborn) (42.0.2.post20191203)\n",
      "Requirement already satisfied: six in c:\\users\\swapnil dhiman\\.conda\\envs\\gputest\\lib\\site-packages (from cycler>=0.10->matplotlib>=2.2->seaborn) (1.13.0)\n",
      "Installing collected packages: pytz, pandas, seaborn\n",
      "Successfully installed pandas-1.3.0 pytz-2021.1 seaborn-0.11.1\n"
     ]
    },
    {
     "name": "stderr",
     "output_type": "stream",
     "text": [
      "ERROR: pandas 1.3.0 has requirement numpy>=1.17.3, but you'll have numpy 1.16.2 which is incompatible.\n"
     ]
    }
   ],
   "source": [
    "!pip install seaborn"
   ]
  },
  {
   "cell_type": "code",
   "execution_count": 18,
   "id": "158e841b",
   "metadata": {},
   "outputs": [
    {
     "name": "stdout",
     "output_type": "stream",
     "text": [
      "Requirement already satisfied: numpy in c:\\users\\swapnil dhiman\\.conda\\envs\\gputest\\lib\\site-packages (1.21.1)\n"
     ]
    }
   ],
   "source": [
    "!pip install numpy "
   ]
  },
  {
   "cell_type": "code",
   "execution_count": 21,
   "id": "2eec4c34",
   "metadata": {},
   "outputs": [],
   "source": [
    "#importing the dataset\n",
    "from sklearn import datasets\n",
    "breast_cancer=datasets.load_breast_cancer()\n",
    "from sklearn.model_selection import train_test_split as tts\n",
    "\n",
    "#import seaborn as sns\n",
    "#breast_cancer=sns.load_dataset('breast_cancer')\n",
    "\n",
    "x_train,x_test,y_train,y_test=tts(breast_cancer.data,breast_cancer.target,test_size=0.2,random_state=0)\n",
    "\n",
    "from sklearn.preprocessing import StandardScaler\n",
    "\n",
    "sc=StandardScaler()\n",
    "x_train=sc.fit_transform(x_train)\n",
    "x_test=sc.transform(x_test)"
   ]
  },
  {
   "cell_type": "code",
   "execution_count": 22,
   "id": "aec21404",
   "metadata": {},
   "outputs": [],
   "source": [
    "#model creation\n",
    "model=Sequential()"
   ]
  },
  {
   "cell_type": "code",
   "execution_count": 23,
   "id": "9a306a5b",
   "metadata": {},
   "outputs": [],
   "source": [
    "layer1=Dense(units=32,activation='relu',input_dim=30)\n",
    "model.add(layer1)\n",
    "model.add(Dense(units=32,activation='relu'))\n",
    "model.add(Dense(units=1,activation='sigmoid'))"
   ]
  },
  {
   "cell_type": "code",
   "execution_count": 24,
   "id": "6c5579ee",
   "metadata": {},
   "outputs": [],
   "source": [
    "#compiling the model \n",
    "model.compile(optimizer='adam',loss='binary_crossentropy',metrics=['accuracy'])"
   ]
  },
  {
   "cell_type": "code",
   "execution_count": 26,
   "id": "d1bda981",
   "metadata": {},
   "outputs": [
    {
     "name": "stdout",
     "output_type": "stream",
     "text": [
      "Train on 455 samples, validate on 114 samples\n",
      "Epoch 1/30\n",
      "455/455 [==============================] - 0s 666us/sample - loss: 0.6699 - accuracy: 0.5407 - val_loss: 0.5487 - val_accuracy: 0.8772\n",
      "Epoch 2/30\n",
      "455/455 [==============================] - 0s 39us/sample - loss: 0.5112 - accuracy: 0.8703 - val_loss: 0.4204 - val_accuracy: 0.9386\n",
      "Epoch 3/30\n",
      "455/455 [==============================] - 0s 38us/sample - loss: 0.3958 - accuracy: 0.9187 - val_loss: 0.3262 - val_accuracy: 0.9386\n",
      "Epoch 4/30\n",
      "455/455 [==============================] - 0s 61us/sample - loss: 0.3057 - accuracy: 0.9385 - val_loss: 0.2574 - val_accuracy: 0.9386\n",
      "Epoch 5/30\n",
      "455/455 [==============================] - 0s 37us/sample - loss: 0.2370 - accuracy: 0.9407 - val_loss: 0.2088 - val_accuracy: 0.9474\n",
      "Epoch 6/30\n",
      "455/455 [==============================] - 0s 33us/sample - loss: 0.1915 - accuracy: 0.9451 - val_loss: 0.1789 - val_accuracy: 0.9474\n",
      "Epoch 7/30\n",
      "455/455 [==============================] - 0s 33us/sample - loss: 0.1609 - accuracy: 0.9473 - val_loss: 0.1580 - val_accuracy: 0.9474\n",
      "Epoch 8/30\n",
      "455/455 [==============================] - 0s 33us/sample - loss: 0.1411 - accuracy: 0.9495 - val_loss: 0.1426 - val_accuracy: 0.9561\n",
      "Epoch 9/30\n",
      "455/455 [==============================] - 0s 33us/sample - loss: 0.1263 - accuracy: 0.9495 - val_loss: 0.1298 - val_accuracy: 0.9561\n",
      "Epoch 10/30\n",
      "455/455 [==============================] - 0s 33us/sample - loss: 0.1145 - accuracy: 0.9692 - val_loss: 0.1208 - val_accuracy: 0.9474\n",
      "Epoch 11/30\n",
      "455/455 [==============================] - 0s 57us/sample - loss: 0.1052 - accuracy: 0.9692 - val_loss: 0.1134 - val_accuracy: 0.9474\n",
      "Epoch 12/30\n",
      "455/455 [==============================] - 0s 46us/sample - loss: 0.0972 - accuracy: 0.9736 - val_loss: 0.1074 - val_accuracy: 0.9474\n",
      "Epoch 13/30\n",
      "455/455 [==============================] - 0s 39us/sample - loss: 0.0914 - accuracy: 0.9736 - val_loss: 0.1013 - val_accuracy: 0.9561\n",
      "Epoch 14/30\n",
      "455/455 [==============================] - 0s 31us/sample - loss: 0.0861 - accuracy: 0.9758 - val_loss: 0.0956 - val_accuracy: 0.9561\n",
      "Epoch 15/30\n",
      "455/455 [==============================] - 0s 31us/sample - loss: 0.0812 - accuracy: 0.9780 - val_loss: 0.0913 - val_accuracy: 0.9561\n",
      "Epoch 16/30\n",
      "455/455 [==============================] - 0s 33us/sample - loss: 0.0769 - accuracy: 0.9802 - val_loss: 0.0877 - val_accuracy: 0.9561\n",
      "Epoch 17/30\n",
      "455/455 [==============================] - 0s 63us/sample - loss: 0.0735 - accuracy: 0.9780 - val_loss: 0.0847 - val_accuracy: 0.9561\n",
      "Epoch 18/30\n",
      "455/455 [==============================] - 0s 57us/sample - loss: 0.0705 - accuracy: 0.9780 - val_loss: 0.0818 - val_accuracy: 0.9561\n",
      "Epoch 19/30\n",
      "455/455 [==============================] - 0s 33us/sample - loss: 0.0677 - accuracy: 0.9780 - val_loss: 0.0794 - val_accuracy: 0.9561\n",
      "Epoch 20/30\n",
      "455/455 [==============================] - 0s 37us/sample - loss: 0.0652 - accuracy: 0.9846 - val_loss: 0.0772 - val_accuracy: 0.9561\n",
      "Epoch 21/30\n",
      "455/455 [==============================] - 0s 39us/sample - loss: 0.0631 - accuracy: 0.9824 - val_loss: 0.0754 - val_accuracy: 0.9561\n",
      "Epoch 22/30\n",
      "455/455 [==============================] - 0s 35us/sample - loss: 0.0611 - accuracy: 0.9846 - val_loss: 0.0734 - val_accuracy: 0.9561\n",
      "Epoch 23/30\n",
      "455/455 [==============================] - 0s 33us/sample - loss: 0.0593 - accuracy: 0.9846 - val_loss: 0.0722 - val_accuracy: 0.9561\n",
      "Epoch 24/30\n",
      "455/455 [==============================] - 0s 35us/sample - loss: 0.0576 - accuracy: 0.9846 - val_loss: 0.0707 - val_accuracy: 0.9561\n",
      "Epoch 25/30\n",
      "455/455 [==============================] - 0s 43us/sample - loss: 0.0560 - accuracy: 0.9846 - val_loss: 0.0694 - val_accuracy: 0.9561\n",
      "Epoch 26/30\n",
      "455/455 [==============================] - 0s 31us/sample - loss: 0.0543 - accuracy: 0.9846 - val_loss: 0.0681 - val_accuracy: 0.9649\n",
      "Epoch 27/30\n",
      "455/455 [==============================] - 0s 39us/sample - loss: 0.0529 - accuracy: 0.9846 - val_loss: 0.0671 - val_accuracy: 0.9649\n",
      "Epoch 28/30\n",
      "455/455 [==============================] - 0s 35us/sample - loss: 0.0515 - accuracy: 0.9846 - val_loss: 0.0658 - val_accuracy: 0.9737\n",
      "Epoch 29/30\n",
      "455/455 [==============================] - 0s 33us/sample - loss: 0.0500 - accuracy: 0.9868 - val_loss: 0.0643 - val_accuracy: 0.9649\n",
      "Epoch 30/30\n",
      "455/455 [==============================] - 0s 33us/sample - loss: 0.0489 - accuracy: 0.9868 - val_loss: 0.0636 - val_accuracy: 0.9737\n"
     ]
    },
    {
     "data": {
      "text/plain": [
       "<tensorflow.python.keras.callbacks.History at 0x24270054f48>"
      ]
     },
     "execution_count": 26,
     "metadata": {},
     "output_type": "execute_result"
    }
   ],
   "source": [
    "#fitting the model\n",
    "model.fit(x_train,y_train,epochs=30,batch_size=50,validation_data=(x_test,y_test))"
   ]
  },
  {
   "cell_type": "code",
   "execution_count": 27,
   "id": "668a7d50",
   "metadata": {},
   "outputs": [
    {
     "name": "stdout",
     "output_type": "stream",
     "text": [
      "[[1.0481179e-03]\n",
      " [9.6578169e-01]\n",
      " [9.9869227e-01]\n",
      " [9.8972142e-01]\n",
      " [9.9859083e-01]\n",
      " [9.9630368e-01]\n",
      " [9.9925935e-01]\n",
      " [9.9879169e-01]\n",
      " [9.9992466e-01]\n",
      " [9.9983811e-01]\n",
      " [8.4831297e-01]\n",
      " [8.7732607e-01]\n",
      " [9.9985993e-01]\n",
      " [4.9571940e-01]\n",
      " [7.8852212e-01]\n",
      " [1.6948283e-03]\n",
      " [9.9987888e-01]\n",
      " [8.6724758e-06]\n",
      " [6.4939260e-05]\n",
      " [2.0861626e-07]\n",
      " [7.1223676e-03]\n",
      " [2.1495819e-03]\n",
      " [9.9222922e-01]\n",
      " [9.9739820e-01]\n",
      " [1.1867285e-04]\n",
      " [9.9932992e-01]\n",
      " [9.9990046e-01]\n",
      " [5.0382316e-03]\n",
      " [9.9868596e-01]\n",
      " [2.4139881e-06]\n",
      " [9.9984169e-01]\n",
      " [7.4267387e-05]\n",
      " [9.3306512e-01]\n",
      " [1.5004277e-03]\n",
      " [9.9999177e-01]\n",
      " [1.0140836e-03]\n",
      " [9.8818111e-01]\n",
      " [1.0081828e-03]\n",
      " [9.8779279e-01]\n",
      " [2.8893054e-03]\n",
      " [4.7521871e-01]\n",
      " [9.9988878e-01]\n",
      " [9.1929495e-02]\n",
      " [9.9990648e-01]\n",
      " [9.6752298e-01]\n",
      " [0.0000000e+00]\n",
      " [9.9999297e-01]\n",
      " [9.6223956e-01]\n",
      " [9.9755681e-01]\n",
      " [3.8713217e-05]\n",
      " [1.9213557e-04]\n",
      " [1.2164152e-01]\n",
      " [1.1590123e-04]\n",
      " [9.9702102e-01]\n",
      " [9.9575603e-01]\n",
      " [9.9949336e-01]\n",
      " [9.9870914e-01]\n",
      " [9.8698282e-01]\n",
      " [9.9288952e-01]\n",
      " [0.0000000e+00]\n",
      " [2.2739470e-03]\n",
      " [1.9995272e-03]\n",
      " [9.9991846e-01]\n",
      " [9.9531120e-01]\n",
      " [1.1917949e-04]\n",
      " [9.2134219e-01]\n",
      " [0.0000000e+00]\n",
      " [8.4936619e-06]\n",
      " [1.1473894e-05]\n",
      " [9.9890262e-01]\n",
      " [7.9409188e-01]\n",
      " [3.6358833e-06]\n",
      " [9.9835956e-01]\n",
      " [1.5740696e-01]\n",
      " [2.7418137e-06]\n",
      " [9.7880006e-01]\n",
      " [9.9995756e-01]\n",
      " [9.7912610e-01]\n",
      " [9.9959993e-01]\n",
      " [9.9994338e-01]\n",
      " [1.8295288e-02]\n",
      " [0.0000000e+00]\n",
      " [7.3313713e-06]\n",
      " [9.9933076e-01]\n",
      " [4.8204958e-03]\n",
      " [9.9945354e-01]\n",
      " [9.9976814e-01]\n",
      " [9.9997532e-01]\n",
      " [1.3330579e-04]\n",
      " [0.0000000e+00]\n",
      " [9.9996990e-01]\n",
      " [4.9917492e-01]\n",
      " [1.9369540e-01]\n",
      " [1.2814999e-06]\n",
      " [9.9893731e-01]\n",
      " [9.9872106e-01]\n",
      " [1.1622906e-06]\n",
      " [9.9663913e-01]\n",
      " [9.9640572e-01]\n",
      " [9.9486607e-01]\n",
      " [9.9999976e-01]\n",
      " [9.9464297e-01]\n",
      " [9.8838627e-01]\n",
      " [9.2854464e-01]\n",
      " [5.3048134e-05]\n",
      " [9.9997938e-01]\n",
      " [3.8743019e-07]\n",
      " [9.2000777e-01]\n",
      " [6.3965857e-01]\n",
      " [4.8081052e-01]\n",
      " [9.9103045e-01]\n",
      " [1.4275312e-05]\n",
      " [1.8389519e-04]\n",
      " [9.1450739e-01]]\n"
     ]
    }
   ],
   "source": [
    "#all the predictions  power negative are predicting to be zero and others as 1\n",
    "predictions=model.predict(x_test)\n",
    "print(predictions)"
   ]
  },
  {
   "cell_type": "code",
   "execution_count": 29,
   "id": "53244153",
   "metadata": {},
   "outputs": [
    {
     "name": "stdout",
     "output_type": "stream",
     "text": [
      "114/114 [==============================] - 0s 26us/sample - loss: 0.0636 - accuracy: 0.9737\n"
     ]
    }
   ],
   "source": [
    "score=model.evaluate(x_test,y_test)\n",
    "#giving  final loss and final accuracy as mentioned in metrics"
   ]
  },
  {
   "cell_type": "code",
   "execution_count": null,
   "id": "93079161",
   "metadata": {},
   "outputs": [],
   "source": []
  }
 ],
 "metadata": {
  "kernelspec": {
   "display_name": "Python [conda env:.conda-gputest]",
   "language": "python",
   "name": "conda-env-.conda-gputest-py"
  },
  "language_info": {
   "codemirror_mode": {
    "name": "ipython",
    "version": 3
   },
   "file_extension": ".py",
   "mimetype": "text/x-python",
   "name": "python",
   "nbconvert_exporter": "python",
   "pygments_lexer": "ipython3",
   "version": "3.7.5"
  }
 },
 "nbformat": 4,
 "nbformat_minor": 5
}
